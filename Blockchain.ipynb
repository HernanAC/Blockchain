{
  "cells": [
    {
      "cell_type": "markdown",
      "metadata": {
        "id": "Q08dGeLVEdXO"
      },
      "source": [
        "# Importing libraries\n"
      ]
    },
    {
      "cell_type": "code",
      "execution_count": 2,
      "metadata": {
        "id": "V0qhZISZEdXU"
      },
      "outputs": [],
      "source": [
        "import hashlib\n",
        "import sys\n",
        "import random\n",
        "from datetime import datetime"
      ]
    },
    {
      "cell_type": "markdown",
      "metadata": {
        "id": "1lBDDNZGEdXV"
      },
      "source": [
        " #### *Creating wallets for users in the blockchain*"
      ]
    },
    {
      "cell_type": "code",
      "execution_count": 3,
      "metadata": {
        "id": "xRyEsWthEdXW"
      },
      "outputs": [],
      "source": [
        "# Users wallets by ID, containing their funds and private keys. The first one is from the Bitcoin net, that is the one who gives to the miner the according reward for mining a block.\n",
        "# The wallet of the miner is the second one, that is the one who will be receiving the reward every time a block is mined. \n",
        "users = {\n",
        "    \"Red de Bitcoin\"                     : [920000000000000, \"KwDiBf89QgGbjEhKnhXJuH7LrciVrZi3qYjgd9M7rFU73sVHnonn\"],\n",
        "    \"1HyWooh9Mo4X2AmXnXZ217aj4TZ1nxqYCn\" : [9200, \"KwDiBf89QgGbjEhKnhXJuH7LrciVrZi3qYjgd9M7rFU73sVHnoWn\"],\n",
        "    \"1FZbgi29cpjq2GjdwV8eyHuJJnkLtktZc5\" : [5943, \"lwjnBwEGbkgoeRhfn1FJenGB1hHoQor3jb8m2OfjJkeAncEB19bO\"],\n",
        "    \"1BoatSLRHtKNngkdXEeobR76b53LETtpyT\" : [7960, \"vJoeiTI13fjrGOcmvbNBitTutmaEq1ORfmnvEIGhby8eDjqOEpdC\"],\n",
        "    \"1F1tAaz5x1HUXrCNLbtMDqcw6o5GNn4xqX\" : [4930, \"Ce3dkEmvQNpTraL3FlmNtaZp3KmbNEo4bPrYlmNQrR4KcKpQzRTx\"],\n",
        "    \"1J7mdg5rbQyUHENYdx39WVWK7fsLpEoXZy\" : [5370, \"pO1MvZO34nQLDftR4BMpqT2cZ0lGqRzPlfjRAnfMoWlq0fj6JCz5\"],\n",
        "    \"17HYnLsb8RuKDTN5hwbCsDQjp2a5Eo5XSX\" : [6120, \"1kVMoqPZlmgnIRtoQLmrVNIQPmzn349MCNcmowqEPRalqjRI2rok\"],\n",
        "    \"1BXN9nooXH3wPxpJrQ4Mx84Fdp4xL7xLgE\" : [6342, \"3cjEOPQZkqEIjN193nceo1RnLKZmeq39ncOcMLnrOzPlkaAK13n4\"], \n",
        "    \"1CCbJRJG8yDF4D5CMf7WqXTW4asy4kpB4M\" : [5921, \"zDi210MCnw0lbBokZKlbmRLkrNgQP12CLncPQormmBK5nbWqLfjF\"], \n",
        "    \"1GQdrgqAbkeEPUef1UpiTc4X1mUHMcyuGW\" : [8250, \"4kvRNlrOfcKFQ3nC5bnQpr49cNpUlrTmzNWq9NzS9plK4nRwE3zT\"], \n",
        "    \"1GUmmLEhYrVKj3EcFhbcZVh2MDxaBYSybd\" : [9440, \"dCLmB3oSwlPRrnH8nZh4cIjaKolR3cN3lqPrYuZxP13oTNmUrZ13\"], \n",
        "    \"17dd9hN2MqdLBwnFknEsSe8VVNrLnqH2EE\" : [7810, \"le0cRzuPYl6N9QwZorEopT9mRsH5nQWlVcORkpqmNVUwoRPtiL9y\"], \n",
        "    \"1BkzU7ySEHcNRqwvrkUrYehZmhioczzJxU\" : [9540, \"3GURPk4csJm4hYSLxpa187q24VMygocnWG4MCowieNRiqZM1OrnT\"], \n",
        "    \"1dPfTe6nsqhJwPVgF3QhPiMxismLfvrbGm\" : [7200, \"z5FD5PHWjMfALuAB7LgjBnqYpVgRPK9PApBqoRInz3nrINtnRLp2\"], \n",
        "    \"1EZC75zdKx1NjNAerTWW3cqGTh3W8rSAHi\" : [6420, \"F1k5W1Ft5J3HhrTjHkQ8ioki9SsYG9mimJXGThpfGLQ29NFf7Y7d\"], \n",
        "    \"1Bzh1yz2gRHEQTp18tT9NYs2rJ6UGzxRrb\" : [8892, \"38nN3RQaGTVcZzi81QKPiYj9EyqKk8V2LD1QDtEEwqfLHrzVkdaM\"], \n",
        "    \"1Mb3CbhHzXAtZ2HFQ4UcXM2Bz8siKAkLg8\" : [5840, \"h74i47N5KPUzXAYk6fKuFkwrTqWgpxoTmE1JyR1EuEca9roL8BrV\"], \n",
        "    \"1HhEdjKYJudvYh2cKs9dQdvPKLKDnqCD2v\" : [8529, \"ZKNCnmPvfStqE7go9pbcPrXUnU482c2Hyk9eRBRqZUKwUNfBhZv2\"], \n",
        "    \"1b7rzDJcWJq3BZ6WpZjV7Xk7VLUUGicmYp\" : [5830, \"f6MxAwzvQAhRt1YjVDeFuonb8KB2pfLJR6bYUSpezzUenkb8jJvD\"], \n",
        "    \"1NrJkERZjgYp9osueXVJMWh2g8KuApK7ka\" : [6359, \"EGJA8a5mVp1Tb1VfoMKEouuPHx6aUYi5HCRtShBQekioYAR6aodW\"] \n",
        "}"
      ]
    },
    {
      "cell_type": "markdown",
      "metadata": {
        "id": "gRRhG1dQEdXX"
      },
      "source": [
        " #### *Basic transaction function made to simulate an interaction between two users*"
      ]
    },
    {
      "cell_type": "code",
      "execution_count": 4,
      "metadata": {
        "id": "n4C0_2e8EdXY"
      },
      "outputs": [],
      "source": [
        "# Function for a basic transaction between two users.\n",
        "def transaction(user1, user2, value):\n",
        "# Veryfing if it is possible to build a transaction.\n",
        "  if user1 in users and user2 in users:\n",
        "    # Checking if there are enough founds, if not, it is not possible to finish the transaction.\n",
        "    if users.get(user1)[0] > value:\n",
        "        # Sending money from one user to other, and substracting the money from the other user. \n",
        "        users[user2][0] = users[user2][0] + value\n",
        "        users[user1][0] = users[user1][0] - value\n",
        "        # Creating a message for the transaction with the necessary information.\n",
        "        now = datetime.now()\n",
        "        current_time = now.strftime(\"%H:%M:%S\")\n",
        "        money = (\"Money sent from \"+ user1 +\" to \"+ user2 +\" with a value of \"+ str(value))\n",
        "        moneyToHash = user1 + user2 + str(value) + current_time\n",
        "        # Hashing the information of the transaction, then returning it once it has been done.\n",
        "        hashed_transaction = hashlib.sha256(moneyToHash.encode('utf-8')).hexdigest()\n",
        "        return hashed_transaction\n",
        "    else:\n",
        "        print(\"You were not able to finish the transaction\")\n",
        "        print(\"ERROR: Insuficient funds\")\n",
        "        return 0"
      ]
    },
    {
      "cell_type": "markdown",
      "metadata": {
        "id": "7NKnSc1lEdXZ"
      },
      "source": [
        "# Merkle Tree"
      ]
    },
    {
      "cell_type": "markdown",
      "metadata": {
        "id": "_BrDYXXHEdXa"
      },
      "source": [
        "#### *Since we want to create a Merkle Tree, we will need to create nodes for each item, and then build a Tree with its nodes*"
      ]
    },
    {
      "cell_type": "code",
      "execution_count": 5,
      "metadata": {
        "id": "hlFG8l38EdXa"
      },
      "outputs": [],
      "source": [
        "# Implementing Merkle Tree Node \"class\" by creating its left and right childs.\n",
        "class MerkleTreeNode:  \n",
        "    def __init__(self,value):\n",
        "        self.left = None\n",
        "        self.right = None\n",
        "        self.value = value\n",
        "        self.hashValue = hashlib.sha256(value.encode(\"utf-8\")).hexdigest()"
      ]
    },
    {
      "cell_type": "code",
      "execution_count": 6,
      "metadata": {
        "id": "OflzkHdNEdXb"
      },
      "outputs": [],
      "source": [
        "# Building a full Merkle Tree. \n",
        "def buildTree(leaves):\n",
        "    # Creating nodes for every leave existing. \n",
        "    hojas = []\n",
        "    for i in leaves:\n",
        "        hojas.append(MerkleTreeNode(i))\n",
        "    # If there is more than one leave left, then enters the loop.\n",
        "    while len(hojas)!=1:\n",
        "        # This while loop controls every height of the tree, so it checks until there is only one leave, because in that case you have the root.\n",
        "        temp = []\n",
        "        # If there are more than two leaves left, then divide them in groups of two, until there is only one or zero left. \n",
        "        for i in range(0,len(hojas),2):\n",
        "            # Creates left child\n",
        "            node1 = hojas[i]\n",
        "            # Checks if there is a right child to add, if there is not, then it goes out of the loop and adds it as a single node. \n",
        "            if i+1 < len(hojas):\n",
        "                node2 = hojas[i+1]\n",
        "            else:\n",
        "                temp.append(hojas[i])\n",
        "                break\n",
        "            # Gets parent's node by concatenating the left and right childs. \n",
        "            concatenatedHash = node1.hashValue + node2.hashValue\n",
        "            parent = MerkleTreeNode(concatenatedHash)\n",
        "            parent.left = node1\n",
        "            parent.right = node2\n",
        "            # Adds a new parent to a temporary list, that will finally be our leaves of our tree.\n",
        "            temp.append(parent)\n",
        "        hojas = temp \n",
        "    # Returns the root leave, that has its own root hash by the property hashValue.\n",
        "    return hojas[0]\n",
        "    # This implementation is not balanced, that means the tree does not have the same amount of nodes in every side. "
      ]
    },
    {
      "cell_type": "markdown",
      "metadata": {
        "id": "7Ln8-16bEdXb"
      },
      "source": [
        "# Blockchain structure"
      ]
    },
    {
      "cell_type": "markdown",
      "metadata": {
        "id": "THfwDo8AEdXc"
      },
      "source": [
        " #### *In order to build a Blockchain, it is necessary to find a block header, body and put them together to generate a new block*"
      ]
    },
    {
      "cell_type": "code",
      "execution_count": 7,
      "metadata": {
        "id": "5hN5Fd0fEdXc"
      },
      "outputs": [],
      "source": [
        "# Block Header\n",
        "class BlockHeader:\n",
        "    def __init__(self,prev_hash,nonce, difficulty, root_hash):\n",
        "        self.prev_hash = prev_hash\n",
        "        self.root_hash = root_hash\n",
        "        self.nonce = nonce     \n",
        "        self.difficulty = difficulty "
      ]
    },
    {
      "cell_type": "code",
      "execution_count": 8,
      "metadata": {
        "id": "fdjhUOrVEdXd"
      },
      "outputs": [],
      "source": [
        "# Block body\n",
        "class BlockBody:\n",
        "    def __init__(self,leaves):\n",
        "        self.leaves = leaves\n",
        "        self.transactions = buildTree(leaves)\n",
        "    # Since we suppose we have built the block with all the total transactions, we would not need this method, but in case we needed to add a new transaction, this method would be helpful.   \n",
        "    def add_transactions(self,transaction):\n",
        "        new_leaves = self.leaves + transaction\n",
        "        self.transactions = buildTree(new_leaves)"
      ]
    },
    {
      "cell_type": "code",
      "execution_count": 9,
      "metadata": {
        "id": "gj52fCSjEdXd"
      },
      "outputs": [],
      "source": [
        "# Block \n",
        "class Block:\n",
        "    def __init__(self,blockH, blockB, prev_hash, height):\n",
        "        self.blockHeader = BlockHeader(blockH.prev_hash, blockH.nonce, blockH.difficulty, blockH.root_hash)\n",
        "        self.blockBody = BlockBody(blockB.leaves)\n",
        "        self.prev_hash = prev_hash\n",
        "        self.height = height"
      ]
    },
    {
      "cell_type": "markdown",
      "metadata": {
        "id": "gcxDlo2fEdXd"
      },
      "source": [
        " #### *Once our first step is done, we must continue creating a Blockchain by mining, adding blocks and check transactions*"
      ]
    },
    {
      "cell_type": "code",
      "execution_count": 13,
      "metadata": {
        "id": "rdHG_5XCEdXe"
      },
      "outputs": [],
      "source": [
        "def mine(message, difficulty, nonce):\n",
        "    # Takes the amount of zeros depending of the difficulty of the problem to solve for the block.\n",
        "    zeros = \"0\" * difficulty\n",
        "    i=0\n",
        "    hashedValue = hashlib.sha256( (str(message) + str(i)).encode('utf-8')).hexdigest()\n",
        "    # Check if the values, depending on the amount of zeros, are the same with the first characters of the hashed value.\n",
        "    while hashedValue[:difficulty] != zeros:\n",
        "        i = i+1\n",
        "        # Try to find a hashed value that fits with the condition, if not creates a new one until the condition is valid.\n",
        "        hashedValue = hashlib.sha256( (str(message) + str(i)).encode('utf-8')).hexdigest()\n",
        "        nonce = random.randint(0,999999999)\n",
        "    return hashedValue, nonce"
      ]
    },
    {
      "cell_type": "markdown",
      "metadata": {
        "id": "rezWMi7UEdXe"
      },
      "source": [
        "# Creation of every block for the blockchain (Example)"
      ]
    },
    {
      "cell_type": "markdown",
      "metadata": {
        "id": "zBJtRs-lEdXe"
      },
      "source": [
        " #### *Block 0*"
      ]
    },
    {
      "cell_type": "code",
      "execution_count": 14,
      "metadata": {
        "id": "SulMWz5cEdXf"
      },
      "outputs": [],
      "source": [
        "allTransactions=[]\n",
        "allTransactions.append(transaction(\"1HyWooh9Mo4X2AmXnXZ217aj4TZ1nxqYCn\", \"1FZbgi29cpjq2GjdwV8eyHuJJnkLtktZc5\", 500))\n",
        "allTransactions.append(transaction(\"1FZbgi29cpjq2GjdwV8eyHuJJnkLtktZc5\", \"1BoatSLRHtKNngkdXEeobR76b53LETtpyT\", 500))\n",
        "allTransactions.append(transaction(\"1dPfTe6nsqhJwPVgF3QhPiMxismLfvrbGm\", \"1GUmmLEhYrVKj3EcFhbcZVh2MDxaBYSybd\", 200))\n",
        "allTransactions.append(transaction(\"1BXN9nooXH3wPxpJrQ4Mx84Fdp4xL7xLgE\", \"1GQdrgqAbkeEPUef1UpiTc4X1mUHMcyuGW\", 300))\n",
        "allTransactions.append(transaction(\"17dd9hN2MqdLBwnFknEsSe8VVNrLnqH2EE\", \"1Mb3CbhHzXAtZ2HFQ4UcXM2Bz8siKAkLg8\", 100))\n",
        "allTransactions.append(transaction(\"17dd9hN2MqdLBwnFknEsSe8VVNrLnqH2EE\", \"1Mb3CbhHzXAtZ2HFQ4UcXM2Bz8siKAkLg8\", 12))\n",
        "allTransactions.append(transaction(\"17dd9hN2MqdLBwnFknEsSe8VVNrLnqH2EE\", \"1Mb3CbhHzXAtZ2HFQ4UcXM2Bz8siKAkLg8\", 13))\n",
        "allTransactions.append(transaction(\"17dd9hN2MqdLBwnFknEsSe8VVNrLnqH2EE\", \"1Mb3CbhHzXAtZ2HFQ4UcXM2Bz8siKAkLg8\", 14))"
      ]
    },
    {
      "cell_type": "code",
      "execution_count": 15,
      "metadata": {
        "scrolled": true,
        "id": "4PVW1pzsEdXf",
        "outputId": "7bd2fb33-0b69-41d4-f6ff-f2747dd15ea1",
        "colab": {
          "base_uri": "https://localhost:8080/"
        }
      },
      "outputs": [
        {
          "output_type": "stream",
          "name": "stdout",
          "text": [
            "=======================================================================================================================\n",
            "Block 0: \n",
            "=======================================================================================================================\n",
            "Previous hash:                                    000097211693144fe081b7cb7e46f765741f6fec70dd9d44a2758fad7794bbc8\n",
            "Timestamp:                                        16:04:57\n",
            "Height:                                           0\n",
            "Number of transactions:                           8\n",
            "Difficulty:                                       4\n",
            "Merkle root:                                      4b36c626b07e20380f084b60123acd22df96e7d99f475bb211adcf0d96a38b15\n",
            "Nonce:                                            268163943\n",
            "\n",
            "Next hash:\n",
            "('000032de34449251f035526083c23032100c173771b78639f7831fc6e5719e87', 413250336)\n"
          ]
        }
      ],
      "source": [
        "messagemineGenesis = \"First transaction of our blockchain\"\n",
        "prev_hash_genesis = mine(messagemineGenesis, 4, random.randint(0,999999999))\n",
        "\n",
        "rootHash0 = hashlib.sha256(buildTree(allTransactions).value.encode(\"utf-8\")).hexdigest()\n",
        "headerBlock0 = BlockHeader(prev_hash_genesis[0], prev_hash_genesis[1] , 4 , rootHash0)\n",
        "bodyBlock0 = BlockBody(allTransactions)\n",
        "block0 = Block(headerBlock0, bodyBlock0, prev_hash_genesis[0], 0)\n",
        "\n",
        "print(\"=======================================================================================================================\")\n",
        "print(\"Block 0: \")\n",
        "print(\"=======================================================================================================================\")\n",
        "print(\"Previous hash:                                    \" + str(block0.blockHeader.prev_hash))\n",
        "print(\"Timestamp:                                        \" + str(datetime.now().strftime(\"%H:%M:%S\")))\n",
        "print(\"Height:                                           \" + str(block0.height))\n",
        "print(\"Number of transactions:                           \" + str(len(block0.blockBody.leaves)))\n",
        "print(\"Difficulty:                                       \" + str(block0.blockHeader.difficulty))\n",
        "print(\"Merkle root:                                      \" + str(block0.blockHeader.root_hash))\n",
        "print(\"Nonce:                                            \" + str(block0.blockHeader.nonce))\n",
        "\n",
        "messagemine0 = str(len(block0.blockBody.leaves)) + str(block0.blockHeader.difficulty) + str(block0.blockHeader.root_hash) + str(block0.blockHeader.nonce)  + str(block0.blockHeader.prev_hash)\n",
        "prev_hash_0 = mine(messagemine0, block0.blockHeader.difficulty, random.randint(0,999999999))\n",
        "print(\"\")\n",
        "print(\"Next hash:\")\n",
        "print(prev_hash_0)"
      ]
    },
    {
      "cell_type": "markdown",
      "metadata": {
        "id": "NipFIknTEdXg"
      },
      "source": [
        " #### *Block 1*"
      ]
    },
    {
      "cell_type": "code",
      "execution_count": 16,
      "metadata": {
        "id": "L5g4ovofEdXg"
      },
      "outputs": [],
      "source": [
        "allTransactions1=[]\n",
        "allTransactions1.append(transaction(\"1HyWooh9Mo4X2AmXnXZ217aj4TZ1nxqYCn\", \"1FZbgi29cpjq2GjdwV8eyHuJJnkLtktZc5\", 1))\n",
        "allTransactions1.append(transaction(\"1FZbgi29cpjq2GjdwV8eyHuJJnkLtktZc5\", \"1BoatSLRHtKNngkdXEeobR76b53LETtpyT\", 2))\n",
        "allTransactions1.append(transaction(\"1dPfTe6nsqhJwPVgF3QhPiMxismLfvrbGm\", \"1GUmmLEhYrVKj3EcFhbcZVh2MDxaBYSybd\", 5))\n",
        "allTransactions1.append(transaction(\"1BXN9nooXH3wPxpJrQ4Mx84Fdp4xL7xLgE\", \"1GQdrgqAbkeEPUef1UpiTc4X1mUHMcyuGW\", 8))\n",
        "allTransactions1.append(transaction(\"1HyWooh9Mo4X2AmXnXZ217aj4TZ1nxqYCn\", \"1FZbgi29cpjq2GjdwV8eyHuJJnkLtktZc5\", 4))\n",
        "allTransactions1.append(transaction(\"1HyWooh9Mo4X2AmXnXZ217aj4TZ1nxqYCn\", \"1FZbgi29cpjq2GjdwV8eyHuJJnkLtktZc5\", 3))\n",
        "allTransactions1.append(transaction(\"1HyWooh9Mo4X2AmXnXZ217aj4TZ1nxqYCn\", \"1FZbgi29cpjq2GjdwV8eyHuJJnkLtktZc5\", 9))\n",
        "allTransactions1.append(transaction(\"1HyWooh9Mo4X2AmXnXZ217aj4TZ1nxqYCn\", \"1FZbgi29cpjq2GjdwV8eyHuJJnkLtktZc5\", 10))\n",
        "allTransactions1.append(transaction(\"1HyWooh9Mo4X2AmXnXZ217aj4TZ1nxqYCn\", \"1FZbgi29cpjq2GjdwV8eyHuJJnkLtktZc5\", 12))"
      ]
    },
    {
      "cell_type": "code",
      "execution_count": 17,
      "metadata": {
        "id": "ZaKmZ-YREdXg",
        "outputId": "35ddd638-d085-4ce6-9efd-39ba180f6d4c",
        "colab": {
          "base_uri": "https://localhost:8080/"
        }
      },
      "outputs": [
        {
          "output_type": "stream",
          "name": "stdout",
          "text": [
            "=======================================================================================================================\n",
            "Block 1: \n",
            "=======================================================================================================================\n",
            "Previous hash:                                    000032de34449251f035526083c23032100c173771b78639f7831fc6e5719e87\n",
            "Timestamp:                                        16:05:53\n",
            "Height:                                           1\n",
            "Number of transactions:                           9\n",
            "Difficulty:                                       4\n",
            "Merkle root:                                      063e4e33a0c47cd35801b6be8c1f3ea585a1997a41d303416787788706211f04\n",
            "Nonce:                                            413250336\n",
            "\n",
            "Next hash:\n",
            "('0000de50e11ba87584c8107cb05df09b0c73936efb335d596e58db88f02062e1', 302185007)\n"
          ]
        }
      ],
      "source": [
        "rootHash1 = hashlib.sha256(buildTree(allTransactions1).value.encode(\"utf-8\")).hexdigest()\n",
        "headerBlock1 = BlockHeader(prev_hash_0[0], prev_hash_0[1], 4 , rootHash1)\n",
        "bodyBlock1 = BlockBody(allTransactions1)\n",
        "block1 = Block(headerBlock1, bodyBlock1, prev_hash_0[0], 1)\n",
        "\n",
        "print(\"=======================================================================================================================\")\n",
        "print(\"Block 1: \")\n",
        "print(\"=======================================================================================================================\")\n",
        "print(\"Previous hash:                                    \" + str(block1.blockHeader.prev_hash))\n",
        "print(\"Timestamp:                                        \" + str(datetime.now().strftime(\"%H:%M:%S\")))\n",
        "print(\"Height:                                           \" + str(block1.height))\n",
        "print(\"Number of transactions:                           \" + str(len(block1.blockBody.leaves)))\n",
        "print(\"Difficulty:                                       \" + str(block1.blockHeader.difficulty))\n",
        "print(\"Merkle root:                                      \" + str(block1.blockHeader.root_hash))\n",
        "print(\"Nonce:                                            \" + str(block1.blockHeader.nonce))\n",
        "\n",
        "messagemine1 = str(len(block1.blockBody.leaves)) + str(block1.blockHeader.difficulty) + str(block1.blockHeader.root_hash) + str(block1.blockHeader.nonce)  + str(block1.blockHeader.prev_hash)\n",
        "prev_hash_1 = mine(messagemine1,block1.blockHeader.difficulty, random.randint(0,999999999))\n",
        "print(\"\")\n",
        "print(\"Next hash:\")\n",
        "print(prev_hash_1)"
      ]
    },
    {
      "cell_type": "markdown",
      "metadata": {
        "id": "TccuveJREdXh"
      },
      "source": [
        " #### *Block 2*"
      ]
    },
    {
      "cell_type": "code",
      "execution_count": 19,
      "metadata": {
        "id": "bzfqaxRNEdXh"
      },
      "outputs": [],
      "source": [
        "allTransactions2=[]\n",
        "allTransactions2.append(transaction(\"1HyWooh9Mo4X2AmXnXZ217aj4TZ1nxqYCn\", \"1FZbgi29cpjq2GjdwV8eyHuJJnkLtktZc5\", 12))\n",
        "allTransactions2.append(transaction(\"1FZbgi29cpjq2GjdwV8eyHuJJnkLtktZc5\", \"1BoatSLRHtKNngkdXEeobR76b53LETtpyT\", 21))\n",
        "allTransactions2.append(transaction(\"1dPfTe6nsqhJwPVgF3QhPiMxismLfvrbGm\", \"1GUmmLEhYrVKj3EcFhbcZVh2MDxaBYSybd\", 51))\n",
        "allTransactions2.append(transaction(\"1BXN9nooXH3wPxpJrQ4Mx84Fdp4xL7xLgE\", \"1GQdrgqAbkeEPUef1UpiTc4X1mUHMcyuGW\", 81))\n",
        "allTransactions2.append(transaction(\"1HyWooh9Mo4X2AmXnXZ217aj4TZ1nxqYCn\", \"1FZbgi29cpjq2GjdwV8eyHuJJnkLtktZc5\", 41))\n",
        "allTransactions2.append(transaction(\"1HyWooh9Mo4X2AmXnXZ217aj4TZ1nxqYCn\", \"1FZbgi29cpjq2GjdwV8eyHuJJnkLtktZc5\", 31))"
      ]
    },
    {
      "cell_type": "code",
      "execution_count": 20,
      "metadata": {
        "id": "FfttJ-VcEdXh",
        "outputId": "1e28113a-a77d-4f60-9d21-4c0f509d6ec7",
        "colab": {
          "base_uri": "https://localhost:8080/"
        }
      },
      "outputs": [
        {
          "output_type": "stream",
          "name": "stdout",
          "text": [
            "=======================================================================================================================\n",
            "Block 2: \n",
            "=======================================================================================================================\n",
            "Previous hash:                                    0000de50e11ba87584c8107cb05df09b0c73936efb335d596e58db88f02062e1\n",
            "Timestamp:                                        16:06:52\n",
            "Height:                                           2\n",
            "Number of transactions:                           6\n",
            "Difficulty:                                       4\n",
            "Merkle root:                                      6ceb02241ca96f33d92d515b8cce49469b3f116789d832160bc79d11a94612a0\n",
            "Nonce:                                            302185007\n",
            "\n",
            "Next hash:\n",
            "('00007c69ed2f05e11bcad4442b4ff427a6c9305c312601c26770de7366e1fe3a', 718096147)\n"
          ]
        }
      ],
      "source": [
        "rootHash2 = hashlib.sha256(buildTree(allTransactions2).value.encode(\"utf-8\")).hexdigest()\n",
        "headerBlock2 = BlockHeader(prev_hash_1[0], prev_hash_1[1] , 4 , rootHash2)\n",
        "bodyBlock2 = BlockBody(allTransactions2)\n",
        "block2 = Block(headerBlock2, bodyBlock2, prev_hash_1[0], 2)\n",
        "\n",
        "print(\"=======================================================================================================================\")\n",
        "print(\"Block 2: \")\n",
        "print(\"=======================================================================================================================\")\n",
        "print(\"Previous hash:                                    \" + str(block2.blockHeader.prev_hash))\n",
        "print(\"Timestamp:                                        \" + str(datetime.now().strftime(\"%H:%M:%S\")))\n",
        "print(\"Height:                                           \" + str(block2.height))\n",
        "print(\"Number of transactions:                           \" + str(len(block2.blockBody.leaves)))\n",
        "print(\"Difficulty:                                       \" + str(block2.blockHeader.difficulty))\n",
        "print(\"Merkle root:                                      \" + str(block2.blockHeader.root_hash))\n",
        "print(\"Nonce:                                            \" + str(block2.blockHeader.nonce))\n",
        "\n",
        "messagemine2 = str(len(block2.blockBody.leaves)) + str(block2.blockHeader.difficulty) + str(block2.blockHeader.root_hash) + str(block2.blockHeader.nonce)  + str(block2.blockHeader.prev_hash)\n",
        "prev_hash_2 = mine(messagemine2,block2.blockHeader.difficulty, random.randint(0,999999999))\n",
        "print(\"\")\n",
        "print(\"Next hash:\")\n",
        "print(prev_hash_2)"
      ]
    },
    {
      "cell_type": "markdown",
      "metadata": {
        "id": "1WaesW5LEdXh"
      },
      "source": [
        " #### *Block 3*"
      ]
    },
    {
      "cell_type": "code",
      "execution_count": 21,
      "metadata": {
        "id": "V65Qin4REdXi"
      },
      "outputs": [],
      "source": [
        "allTransactions3=[]\n",
        "allTransactions3.append(transaction(\"1HyWooh9Mo4X2AmXnXZ217aj4TZ1nxqYCn\", \"1FZbgi29cpjq2GjdwV8eyHuJJnkLtktZc5\", 10))\n",
        "allTransactions3.append(transaction(\"1FZbgi29cpjq2GjdwV8eyHuJJnkLtktZc5\", \"1BoatSLRHtKNngkdXEeobR76b53LETtpyT\", 20))\n",
        "allTransactions3.append(transaction(\"1dPfTe6nsqhJwPVgF3QhPiMxismLfvrbGm\", \"1GUmmLEhYrVKj3EcFhbcZVh2MDxaBYSybd\", 50))\n",
        "allTransactions3.append(transaction(\"1BXN9nooXH3wPxpJrQ4Mx84Fdp4xL7xLgE\", \"1GQdrgqAbkeEPUef1UpiTc4X1mUHMcyuGW\", 80))\n",
        "allTransactions3.append(transaction(\"1HyWooh9Mo4X2AmXnXZ217aj4TZ1nxqYCn\", \"1FZbgi29cpjq2GjdwV8eyHuJJnkLtktZc5\", 40))\n",
        "allTransactions3.append(transaction(\"1HyWooh9Mo4X2AmXnXZ217aj4TZ1nxqYCn\", \"1FZbgi29cpjq2GjdwV8eyHuJJnkLtktZc5\", 30))\n",
        "allTransactions3.append(transaction(\"1HyWooh9Mo4X2AmXnXZ217aj4TZ1nxqYCn\", \"1FZbgi29cpjq2GjdwV8eyHuJJnkLtktZc5\", 33))\n",
        "allTransactions3.append(transaction(\"1FZbgi29cpjq2GjdwV8eyHuJJnkLtktZc5\", \"1BoatSLRHtKNngkdXEeobR76b53LETtpyT\", 44))\n",
        "allTransactions3.append(transaction(\"1dPfTe6nsqhJwPVgF3QhPiMxismLfvrbGm\", \"1GUmmLEhYrVKj3EcFhbcZVh2MDxaBYSybd\", 55))\n",
        "allTransactions3.append(transaction(\"1BXN9nooXH3wPxpJrQ4Mx84Fdp4xL7xLgE\", \"1GQdrgqAbkeEPUef1UpiTc4X1mUHMcyuGW\", 66))\n",
        "allTransactions3.append(transaction(\"1HyWooh9Mo4X2AmXnXZ217aj4TZ1nxqYCn\", \"1FZbgi29cpjq2GjdwV8eyHuJJnkLtktZc5\", 77))\n",
        "allTransactions3.append(transaction(\"1HyWooh9Mo4X2AmXnXZ217aj4TZ1nxqYCn\", \"1FZbgi29cpjq2GjdwV8eyHuJJnkLtktZc5\", 88))"
      ]
    },
    {
      "cell_type": "code",
      "execution_count": 22,
      "metadata": {
        "id": "4F0SNG4wEdXi",
        "outputId": "a39cb49b-1dc9-45bc-df3f-a692b1ce53c1",
        "colab": {
          "base_uri": "https://localhost:8080/"
        }
      },
      "outputs": [
        {
          "output_type": "stream",
          "name": "stdout",
          "text": [
            "=======================================================================================================================\n",
            "Block 3: \n",
            "=======================================================================================================================\n",
            "Previous hash:                                    00007c69ed2f05e11bcad4442b4ff427a6c9305c312601c26770de7366e1fe3a\n",
            "Timestamp:                                        16:07:47\n",
            "Height:                                           3\n",
            "Number of transactions:                           12\n",
            "Difficulty:                                       4\n",
            "Merkle root:                                      7386bd50212f494a37e699456cda08b87bd49a283440b0842bca6bc12f4b8ada\n",
            "Nonce:                                            718096147\n",
            "\n",
            "Next hash:\n",
            "('00004da1f10e12234285ad32712e8936c1daf696d4fe9c48e246d5368ee11d7e', 605431208)\n"
          ]
        }
      ],
      "source": [
        "rootHash3 = hashlib.sha256(buildTree(allTransactions3).value.encode(\"utf-8\")).hexdigest()\n",
        "headerBlock3 = BlockHeader(prev_hash_2[0], prev_hash_2[1] , 4 , rootHash3)\n",
        "bodyBlock3 = BlockBody(allTransactions3)\n",
        "block3 = Block(headerBlock3, bodyBlock3, prev_hash_2[0], 3)\n",
        "\n",
        "print(\"=======================================================================================================================\")\n",
        "print(\"Block 3: \")\n",
        "print(\"=======================================================================================================================\")\n",
        "print(\"Previous hash:                                    \" + str(block3.blockHeader.prev_hash))\n",
        "print(\"Timestamp:                                        \" + str(datetime.now().strftime(\"%H:%M:%S\")))\n",
        "print(\"Height:                                           \" + str(block3.height))\n",
        "print(\"Number of transactions:                           \" + str(len(block3.blockBody.leaves)))\n",
        "print(\"Difficulty:                                       \" + str(block3.blockHeader.difficulty))\n",
        "print(\"Merkle root:                                      \" + str(block3.blockHeader.root_hash))\n",
        "print(\"Nonce:                                            \" + str(block3.blockHeader.nonce))\n",
        "\n",
        "messagemine3 = str(len(block3.blockBody.leaves)) + str(block3.blockHeader.difficulty) + str(block3.blockHeader.root_hash) + str(block3.blockHeader.nonce)  + str(block3.blockHeader.prev_hash)\n",
        "prev_hash_3 = mine(messagemine3,block3.blockHeader.difficulty, random.randint(0,999999999))\n",
        "print(\"\")\n",
        "print(\"Next hash:\")\n",
        "print(prev_hash_3)"
      ]
    },
    {
      "cell_type": "markdown",
      "source": [
        "# Creation of every block for the blockchain (typed by user)"
      ],
      "metadata": {
        "id": "nef7ufRnKp9n"
      }
    },
    {
      "cell_type": "markdown",
      "source": [
        "#### *In this case you can choose the amount of blocks, transactions per block and the details of each transaction.*"
      ],
      "metadata": {
        "id": "hEny3ODeJF6o"
      }
    },
    {
      "cell_type": "code",
      "execution_count": 23,
      "metadata": {
        "id": "bjfzhuh_EdXj"
      },
      "outputs": [],
      "source": [
        "# Generating an interactive method for the facilities in this project.\n",
        "blockList = []\n",
        "# We create a blockList that will allow us to save every block necessary for the Blockchain.\n",
        "def build_blockchain():\n",
        "  # Entering the amount of blocks for our Blockchain.\n",
        "  blocks = int(input(\"Enter the amount of blocks you want for your Blockchain: \"))\n",
        "  while blocks <= 0:\n",
        "    blocks = int(input(\"Please enter a correct number of blocks: \"))\n",
        "  count = 0\n",
        "  for i in range(0, blocks):\n",
        "    # Checking how many transactions we will want for each block. \n",
        "    transactions = int(input(\"Enter the amount of transactions for your Block #\" + str(count+1)+\": \"))\n",
        "    while transactions <= 0:\n",
        "      transactions = int(input(\"Please enter a correct number of transactions: \"))\n",
        "    count2 = 0\n",
        "    # Creating our list of transactions for every block. \n",
        "    defTransactions = []\n",
        "    # Rewarding the miner of the block from Bitcoin's net to the miner's wallet ID.  \n",
        "    defTransactions.append(transaction(\"Red de Bitcoin\", \"1HyWooh9Mo4X2AmXnXZ217aj4TZ1nxqYCn\", 50))\n",
        "    # Checking every transactions' information with wallets and value.\n",
        "    for y in range(0, transactions):\n",
        "      print(\"Transaction #\"+str(count2+1))\n",
        "      # Checking wallet ID of the sender.\n",
        "      user = input(\"Enter the wallet ID of the sender: \")\n",
        "      while user not in users.keys(): \n",
        "        user = input(\"Please enter a correct wallet ID for the sender: \")\n",
        "      # Checking wallet ID of the receiver.\n",
        "      user2 = input(\"Enter the wallet ID of the receiver: \")\n",
        "      while user2 not in users.keys(): \n",
        "        user2 = input(\"Please enter a correct wallet ID for the receiver: \")\n",
        "      # Checking if the value of the transaction.\n",
        "      value = int(input(\"Enter the amout of BTC to send: \"))\n",
        "      while value <= 0: \n",
        "        value = int(input(\"Please enter a correct amount of BTC: \"))\n",
        "      while users.get(user)[0] < value:\n",
        "        print(\"Insuficient funds, couldnt finish the transaction\")\n",
        "        value = int(input(\"Please enter a correct amount of BTC: \"))\n",
        "      print(\"Transaction finished correctly\")\n",
        "      defTransactions.append(transaction(user, user2, value))\n",
        "      count2 = count2+1\n",
        "    # Once we have created all the transactions for this block, we check if it is the genesis or not.\n",
        "    if count == 0:\n",
        "      # If it is the genesis, then the root hash has to be defined arbitrarily so we can mine the genesis block without previous information.\n",
        "      toMine = \"First block of our Blockchain\"\n",
        "      prev_hash = mine(toMine, 4, random.randint(0,999999999))\n",
        "      rootHash = hashlib.sha256(buildTree(defTransactions).value.encode(\"utf-8\")).hexdigest()\n",
        "      headerBlock = BlockHeader(prev_hash[0], prev_hash[1] , 4 , rootHash)\n",
        "      bodyBlock = BlockBody(defTransactions)\n",
        "      block = Block(headerBlock, bodyBlock, prev_hash[0], 0)\n",
        "      blockList.append(block)\n",
        "    else:\n",
        "      # Since we want to mine this block, we will need the information of the last block of our blockchain. \n",
        "      toMine = str(len(blockList[len(blockList)-1].blockBody.leaves)) + str(blockList[len(blockList)-1].blockHeader.difficulty) + str(blockList[len(blockList)-1].blockHeader.root_hash) + str(blockList[len(blockList)-1].blockHeader.nonce)  + str(blockList[len(blockList)-1].blockHeader.prev_hash)\n",
        "      prev_hash = mine(toMine, 4, random.randint(0,999999999))\n",
        "      rootHash = hashlib.sha256(buildTree(defTransactions).value.encode(\"utf-8\")).hexdigest()\n",
        "      headerBlock = BlockHeader(prev_hash[0], prev_hash[1] , 4 , rootHash)\n",
        "      bodyBlock = BlockBody(defTransactions)\n",
        "      block = Block(headerBlock, bodyBlock, prev_hash[0], count)\n",
        "      blockList.append(block)\n",
        "    count = count + 1\n",
        "  print(\"\")\n",
        "  return (\"You have finished your blockchain\")"
      ]
    },
    {
      "cell_type": "code",
      "source": [
        "# We define a function that allows us to see every block and its information.\n",
        "def show_blockchain():\n",
        "  count = 0\n",
        "  for y in range(0, len(blockList)):\n",
        "    print(\"=======================================================================================================================\")\n",
        "    print(\"Block : \"+str(count))\n",
        "    print(\"=======================================================================================================================\")\n",
        "    print(\"Previous hash:                                    \" + str(blockList[count].blockHeader.prev_hash))\n",
        "    print(\"Timestamp:                                        \" + str(datetime.now().strftime(\"%H:%M:%S\")))\n",
        "    print(\"Height:                                           \" + str(blockList[count].height))\n",
        "    print(\"Number of transactions:                           \" + str(len(blockList[count].blockBody.leaves)))\n",
        "    print(\"Difficulty:                                       \" + str(blockList[count].blockHeader.difficulty))\n",
        "    print(\"Merkle root:                                      \" + str(blockList[count].blockHeader.root_hash))\n",
        "    print(\"Nonce:                                            \" + str(blockList[count].blockHeader.nonce))\n",
        "    count = count+1\n",
        "  return (\"This is how your blockchain looks like\")"
      ],
      "metadata": {
        "id": "l4TXVE49IqJC"
      },
      "execution_count": 24,
      "outputs": []
    },
    {
      "cell_type": "code",
      "source": [
        "blockList = []\n",
        "build_blockchain()\n",
        "print('')\n",
        "print('')\n",
        "print('')\n",
        "show_blockchain()"
      ],
      "metadata": {
        "id": "q8B6WCRKE_bB",
        "colab": {
          "base_uri": "https://localhost:8080/",
          "height": 1000
        },
        "outputId": "74795792-c894-40a0-f4bd-acb367e09261"
      },
      "execution_count": null,
      "outputs": [
        {
          "output_type": "stream",
          "name": "stdout",
          "text": [
            "Enter the amount of blocks you want for your Blockchain: 3\n",
            "Enter the amount of transactions for your Block #1: 8\n",
            "Transaction #1\n",
            "Enter the wallet ID of the sender: 1HyWooh9Mo4X2AmXnXZ217aj4TZ1nxqYCn\n",
            "Enter the wallet ID of the receiver: 1FZbgi29cpjq2GjdwV8eyHuJJnkLtktZc5\n",
            "Enter the amout of BTC to send: 500\n",
            "Transaction finished correctly\n",
            "Transaction #2\n",
            "Enter the wallet ID of the sender: 1FZbgi29cpjq2GjdwV8eyHuJJnkLtktZc5\n",
            "Enter the wallet ID of the receiver: 1BoatSLRHtKNngkdXEeobR76b53LETtpyT\n",
            "Enter the amout of BTC to send: 500\n",
            "Transaction finished correctly\n",
            "Transaction #3\n",
            "Enter the wallet ID of the sender: 1dPfTe6nsqhJwPVgF3QhPiMxismLfvrbGm\n",
            "Enter the wallet ID of the receiver: 1GUmmLEhYrVKj3EcFhbcZVh2MDxaBYSybd\n",
            "Enter the amout of BTC to send: 200\n",
            "Transaction finished correctly\n",
            "Transaction #4\n",
            "Enter the wallet ID of the sender: 1BXN9nooXH3wPxpJrQ4Mx84Fdp4xL7xLgE\n",
            "Enter the wallet ID of the receiver: 1GQdrgqAbkeEPUef1UpiTc4X1mUHMcyuGW\n",
            "Enter the amout of BTC to send: 300\n",
            "Transaction finished correctly\n",
            "Transaction #5\n",
            "Enter the wallet ID of the sender: 17dd9hN2MqdLBwnFknEsSe8VVNrLnqH2EE\n",
            "Enter the wallet ID of the receiver: 1Mb3CbhHzXAtZ2HFQ4UcXM2Bz8siKAkLg8\n",
            "Enter the amout of BTC to send: 100\n",
            "Transaction finished correctly\n",
            "Transaction #6\n",
            "Enter the wallet ID of the sender: 17dd9hN2MqdLBwnFknEsSe8VVNrLnqH2EE\n",
            "Enter the wallet ID of the receiver: 1Mb3CbhHzXAtZ2HFQ4UcXM2Bz8siKAkLg8\n",
            "Enter the amout of BTC to send: 12\n",
            "Transaction finished correctly\n",
            "Transaction #7\n",
            "Enter the wallet ID of the sender: 17dd9hN2MqdLBwnFknEsSe8VVNrLnqH2EE\n",
            "Enter the wallet ID of the receiver: 1Mb3CbhHzXAtZ2HFQ4UcXM2Bz8siKAkLg8\n",
            "Enter the amout of BTC to send: 13\n",
            "Transaction finished correctly\n",
            "Transaction #8\n",
            "Enter the wallet ID of the sender: 17dd9hN2MqdLBwnFknEsSe8VVNrLnqH2EE\n",
            "Enter the wallet ID of the receiver: 1Mb3CbhHzXAtZ2HFQ4UcXM2Bz8siKAkLg8\n",
            "Enter the amout of BTC to send: 14\n",
            "Transaction finished correctly\n",
            "Enter the amount of transactions for your Block #2: 9\n",
            "Transaction #1\n",
            "Enter the wallet ID of the sender: 1HyWooh9Mo4X2AmXnXZ217aj4TZ1nxqYCn\n",
            "Enter the wallet ID of the receiver: 1FZbgi29cpjq2GjdwV8eyHuJJnkLtktZc5\n",
            "Enter the amout of BTC to send: 1\n",
            "Transaction finished correctly\n",
            "Transaction #2\n",
            "Enter the wallet ID of the sender: 1FZbgi29cpjq2GjdwV8eyHuJJnkLtktZc5\n",
            "Enter the wallet ID of the receiver: 1BoatSLRHtKNngkdXEeobR76b53LETtpyT\n",
            "Enter the amout of BTC to send: 2\n",
            "Transaction finished correctly\n",
            "Transaction #3\n",
            "Enter the wallet ID of the sender: 1dPfTe6nsqhJwPVgF3QhPiMxismLfvrbGm\n",
            "Enter the wallet ID of the receiver: 1GUmmLEhYrVKj3EcFhbcZVh2MDxaBYSybd\n",
            "Enter the amout of BTC to send: 5\n",
            "Transaction finished correctly\n",
            "Transaction #4\n",
            "Enter the wallet ID of the sender: 1BXN9nooXH3wPxpJrQ4Mx84Fdp4xL7xLgE\n",
            "Enter the wallet ID of the receiver: 1GQdrgqAbkeEPUef1UpiTc4X1mUHMcyuGW\n",
            "Enter the amout of BTC to send: 8\n",
            "Transaction finished correctly\n",
            "Transaction #5\n",
            "Enter the wallet ID of the sender: 1HyWooh9Mo4X2AmXnXZ217aj4TZ1nxqYCn\n",
            "Enter the wallet ID of the receiver: 1FZbgi29cpjq2GjdwV8eyHuJJnkLtktZc5\n",
            "Enter the amout of BTC to send: 4\n",
            "Transaction finished correctly\n",
            "Transaction #6\n",
            "Enter the wallet ID of the sender: 1HyWooh9Mo4X2AmXnXZ217aj4TZ1nxqYCn\n",
            "Enter the wallet ID of the receiver: 1FZbgi29cpjq2GjdwV8eyHuJJnkLtktZc5\n",
            "Enter the amout of BTC to send: 3\n",
            "Transaction finished correctly\n",
            "Transaction #7\n",
            "Enter the wallet ID of the sender: 1HyWooh9Mo4X2AmXnXZ217aj4TZ1nxqYCn\n",
            "Enter the wallet ID of the receiver: 1FZbgi29cpjq2GjdwV8eyHuJJnkLtktZc5\n",
            "Enter the amout of BTC to send: 9\n",
            "Transaction finished correctly\n",
            "Transaction #8\n",
            "Enter the wallet ID of the sender: 1HyWooh9Mo4X2AmXnXZ217aj4TZ1nxqYCn\n",
            "Enter the wallet ID of the receiver: 1FZbgi29cpjq2GjdwV8eyHuJJnkLtktZc5\n",
            "Enter the amout of BTC to send: 10\n",
            "Transaction finished correctly\n",
            "Transaction #9\n",
            "Enter the wallet ID of the sender: 1HyWooh9Mo4X2AmXnXZ217aj4TZ1nxqYCn\n",
            "Enter the wallet ID of the receiver: 1FZbgi29cpjq2GjdwV8eyHuJJnkLtktZc5\n",
            "Enter the amout of BTC to send: 12\n",
            "Transaction finished correctly\n",
            "Enter the amount of transactions for your Block #3: 6\n",
            "Transaction #1\n",
            "Enter the wallet ID of the sender: 1HyWooh9Mo4X2AmXnXZ217aj4TZ1nxqYCn\n",
            "Enter the wallet ID of the receiver: 1FZbgi29cpjq2GjdwV8eyHuJJnkLtktZc5\n",
            "Enter the amout of BTC to send: 12\n",
            "Transaction finished correctly\n",
            "Transaction #2\n",
            "Enter the wallet ID of the sender: 1FZbgi29cpjq2GjdwV8eyHuJJnkLtktZc5\n",
            "Enter the wallet ID of the receiver: 1BoatSLRHtKNngkdXEeobR76b53LETtpyT\n",
            "Enter the amout of BTC to send: 21\n",
            "Transaction finished correctly\n",
            "Transaction #3\n",
            "Enter the wallet ID of the sender: 1dPfTe6nsqhJwPVgF3QhPiMxismLfvrbGm\n",
            "Enter the wallet ID of the receiver: 1GUmmLEhYrVKj3EcFhbcZVh2MDxaBYSybd\n",
            "Enter the amout of BTC to send: 51\n",
            "Transaction finished correctly\n",
            "Transaction #4\n",
            "Enter the wallet ID of the sender: 1BXN9nooXH3wPxpJrQ4Mx84Fdp4xL7xLgE\n",
            "Enter the wallet ID of the receiver: 1GQdrgqAbkeEPUef1UpiTc4X1mUHMcyuGW\n",
            "Enter the amout of BTC to send: 81\n",
            "Transaction finished correctly\n",
            "Transaction #5\n",
            "Enter the wallet ID of the sender: 1HyWooh9Mo4X2AmXnXZ217aj4TZ1nxqYCn\n",
            "Enter the wallet ID of the receiver: 1FZbgi29cpjq2GjdwV8eyHuJJnkLtktZc5\n",
            "Enter the amout of BTC to send: 41\n",
            "Transaction finished correctly\n",
            "Transaction #6\n",
            "Enter the wallet ID of the sender: 1HyWooh9Mo4X2AmXnXZ217aj4TZ1nxqYCn\n",
            "Enter the wallet ID of the receiver: 1FZbgi29cpjq2GjdwV8eyHuJJnkLtktZc5\n",
            "Enter the amout of BTC to send: 31\n",
            "Transaction finished correctly\n",
            "\n",
            "\n",
            "\n",
            "\n",
            "asd\n",
            "=======================================================================================================================\n",
            "Block : 0\n",
            "=======================================================================================================================\n",
            "Previous hash:                                    None\n",
            "Timestamp:                                        05:33:49\n",
            "Height:                                           0\n",
            "Number of transactions:                           9\n",
            "Difficulty:                                       4\n",
            "Merkle root:                                      096d02cc3492e0c120e52b295b4ad29209766f72ff41f411a0ac4b5782da0530\n",
            "Nonce:                                            88066642\n",
            "asd\n",
            "=======================================================================================================================\n",
            "Block : 1\n",
            "=======================================================================================================================\n",
            "Previous hash:                                    000026017141d87c6c4ca5fe8702664f13c507be92774d518f07febb48a790ab\n",
            "Timestamp:                                        05:33:49\n",
            "Height:                                           0\n",
            "Number of transactions:                           10\n",
            "Difficulty:                                       4\n",
            "Merkle root:                                      39d4bf76a5e5264a502d4e8966fd715dfb30db4c6e650db3b2a25e32e6e99ca6\n",
            "Nonce:                                            350759255\n",
            "asd\n",
            "=======================================================================================================================\n",
            "Block : 2\n",
            "=======================================================================================================================\n",
            "Previous hash:                                    000095b6b74bdf01576aff5c9e22bf45118a7095af80ce2de62debc22c9a4051\n",
            "Timestamp:                                        05:33:49\n",
            "Height:                                           0\n",
            "Number of transactions:                           7\n",
            "Difficulty:                                       4\n",
            "Merkle root:                                      ca46ce405b896fffcc95ef8e35c751d92f257d8b39aa8bd625fc2f0c743ce7e8\n",
            "Nonce:                                            34244760\n"
          ]
        },
        {
          "output_type": "execute_result",
          "data": {
            "text/plain": [
              "'This is how your blockchain looks like'"
            ],
            "application/vnd.google.colaboratory.intrinsic+json": {
              "type": "string"
            }
          },
          "metadata": {},
          "execution_count": 20
        }
      ]
    },
    {
      "cell_type": "code",
      "source": [
        "blockList = []\n",
        "build_blockchain()\n",
        "print('')\n",
        "print('')\n",
        "print('')\n",
        "show_blockchain()"
      ],
      "metadata": {
        "colab": {
          "base_uri": "https://localhost:8080/",
          "height": 729
        },
        "id": "CF-O2TMAd1sj",
        "outputId": "d1258b87-d8a7-4dec-8352-4124a86fe858"
      },
      "execution_count": 25,
      "outputs": [
        {
          "output_type": "stream",
          "name": "stdout",
          "text": [
            "Enter the amount of blocks you want for your Blockchain: -1\n",
            "Please enter a correct number of blocks: 1\n",
            "Enter the amount of transactions for your Block #1: -1\n",
            "Please enter a correct number of transactions: 3\n",
            "Transaction #1\n",
            "Enter the wallet ID of the sender: 2\n",
            "Please enter a correct wallet ID for the sender: 1FZbgi29cpjq2GjdwV8eyHuJJnkLtktZc5\n",
            "Enter the wallet ID of the receiver: 2\n",
            "Please enter a correct wallet ID for the receiver: 1FZbgi29cpjq2GjdwV8eyHuJJnkLtktZc5\n",
            "Enter the amout of BTC to send: -1\n",
            "Please enter a correct amount of BTC: 13112123\n",
            "Insuficient funds, couldnt finish the transaction\n",
            "Please enter a correct amount of BTC: 1\n",
            "Transaction finished correctly\n",
            "Transaction #2\n",
            "Enter the wallet ID of the sender: 1FZbgi29cpjq2GjdwV8eyHuJJnkLtktZc5\n",
            "Enter the wallet ID of the receiver: 1FZbgi29cpjq2GjdwV8eyHuJJnkLtktZc5\n",
            "Enter the amout of BTC to send: 2\n",
            "Transaction finished correctly\n",
            "Transaction #3\n",
            "Enter the wallet ID of the sender: 1FZbgi29cpjq2GjdwV8eyHuJJnkLtktZc5\n",
            "Enter the wallet ID of the receiver: 1FZbgi29cpjq2GjdwV8eyHuJJnkLtktZc5\n",
            "Enter the amout of BTC to send: 1\n",
            "Transaction finished correctly\n",
            "\n",
            "\n",
            "\n",
            "\n",
            "=======================================================================================================================\n",
            "Block : 0\n",
            "=======================================================================================================================\n",
            "Previous hash:                                    000080c5b2a96876f221ff625fa661c6f12efa4c82611832db6de41ef129e4cb\n",
            "Timestamp:                                        16:10:18\n",
            "Height:                                           0\n",
            "Number of transactions:                           4\n",
            "Difficulty:                                       4\n",
            "Merkle root:                                      05797801a2c37c72f5687d4938b4b162f01673e165c025be74284a08ad28125b\n",
            "Nonce:                                            474464325\n"
          ]
        },
        {
          "output_type": "execute_result",
          "data": {
            "text/plain": [
              "'This is how your blockchain looks like'"
            ],
            "application/vnd.google.colaboratory.intrinsic+json": {
              "type": "string"
            }
          },
          "metadata": {},
          "execution_count": 25
        }
      ]
    }
  ],
  "metadata": {
    "kernelspec": {
      "display_name": "Python 3",
      "language": "python",
      "name": "python3"
    },
    "language_info": {
      "codemirror_mode": {
        "name": "ipython",
        "version": 3
      },
      "file_extension": ".py",
      "mimetype": "text/x-python",
      "name": "python",
      "nbconvert_exporter": "python",
      "pygments_lexer": "ipython3",
      "version": "3.8.5"
    },
    "colab": {
      "name": "Blockchain2.ipynb",
      "provenance": [],
      "collapsed_sections": []
    }
  },
  "nbformat": 4,
  "nbformat_minor": 0
}